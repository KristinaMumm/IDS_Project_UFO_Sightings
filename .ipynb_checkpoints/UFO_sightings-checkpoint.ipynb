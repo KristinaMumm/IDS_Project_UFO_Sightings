{
 "cells": [
  {
   "cell_type": "code",
   "execution_count": 1,
   "metadata": {},
   "outputs": [],
   "source": [
    "import pandas as pd\n",
    "import numpy as np\n",
    "import reverse_geocoder as rg\n",
    "import geopandas as gp\n",
    "import matplotlib.pyplot as plt\n",
    "from shapely.geometry import Point, Polygon"
   ]
  },
  {
   "cell_type": "code",
   "execution_count": 2,
   "metadata": {},
   "outputs": [
    {
     "name": "stderr",
     "output_type": "stream",
     "text": [
      "C:\\Users\\Kristina\\anaconda3\\lib\\site-packages\\IPython\\core\\interactiveshell.py:3146: DtypeWarning: Columns (5,9) have mixed types.Specify dtype option on import or set low_memory=False.\n",
      "  has_raised = await self.run_ast_nodes(code_ast.body, cell_name,\n"
     ]
    }
   ],
   "source": [
    "data = pd.read_csv(\"data/ufo_sightings_scrubbed.csv\",)"
   ]
  },
  {
   "cell_type": "code",
   "execution_count": 3,
   "metadata": {
    "id": "9j3ZakrST4GJ"
   },
   "outputs": [],
   "source": [
    "data = pd.read_csv(\"data/ufo_sightings_scrubbed.csv\", dtype={\"duration (seconds)\": \"string\", \"latitude\": \"string\"})"
   ]
  },
  {
   "cell_type": "markdown",
   "metadata": {},
   "source": [
    "There were warning while importing 'ufo_sightings_scrubbed.csv': `DtypeWarning: Columns (5,9) have mixed types.`. So I watched the columns \"duration (seconds)\" and \"latitude\". Found out that there are values 2\\`, 8\\`, 0.5\\` in column \"duration (seconds)\" and value 33q.200088. \n",
    "\n",
    "The mark \\` after numbers seems to be mark of minutes. Removed them. Changed column dtype to numeric(float64).\n",
    "\n",
    "Value 33q.200088 should be 33.200088. I found the row with this value and Mescalero Indian Reservation location latitude is about the same as 33.200088. Changed column dtype to numeric(float64).\n",
    "\n",
    "Also working with columns the \"longitude\" was actually \"longitude \"."
   ]
  },
  {
   "cell_type": "code",
   "execution_count": 4,
   "metadata": {},
   "outputs": [
    {
     "name": "stdout",
     "output_type": "stream",
     "text": [
      "duration (seconds)\n",
      "2`\n",
      "8`\n",
      "0.5`\n",
      "latitude\n",
      "33q.200088\n"
     ]
    }
   ],
   "source": [
    "print('duration (seconds)')\n",
    "for value in data['duration (seconds)']:\n",
    "    try:\n",
    "        float(value)\n",
    "    except:\n",
    "        print(value)\n",
    "        \n",
    "print('latitude')\n",
    "for value in data['latitude']:\n",
    "    try:\n",
    "        float(value)\n",
    "    except:\n",
    "        print(value)\n"
   ]
  },
  {
   "cell_type": "code",
   "execution_count": 5,
   "metadata": {},
   "outputs": [],
   "source": [
    "data = data.replace('33q.200088', '33.200088')\n",
    "data[\"latitude\"] = pd.to_numeric(data[\"latitude\"])"
   ]
  },
  {
   "cell_type": "code",
   "execution_count": 6,
   "metadata": {},
   "outputs": [],
   "source": [
    "data = data.replace('2`', '2')\n",
    "data = data.replace('8`', '8')\n",
    "data = data.replace('0.5`', '0.5')\n",
    "data[\"duration (seconds)\"] = pd.to_numeric(data[\"duration (seconds)\"])"
   ]
  },
  {
   "cell_type": "code",
   "execution_count": 7,
   "metadata": {},
   "outputs": [],
   "source": [
    "data = data.rename(columns={'longitude ': 'longitude'})"
   ]
  },
  {
   "cell_type": "markdown",
   "metadata": {},
   "source": [
    "Now need to decide, what to do with `null` values.\n",
    "\n",
    "Since there is no null values in \"latitude\" and \"longitude\" columns it is possible to find values for columns \"state\" and \"country\". Found that there is [\"Reverse Geocoder\" Python library](https://github.com/thampiman/reverse-geocoder) where I give coordinates and get data about the place.\n",
    "\n",
    "I checked with Reverse Geocoder, if there are any values from \"country\" that does not correspond to given coordinates with code:\n",
    "```\n",
    "from collections import Counter\n",
    "\n",
    "coordinates = []\n",
    "\n",
    "for i in data[data['country'].notnull()].index:\n",
    "    coordinates.append((data.at[i, 'latitude'], data.at[i, 'longitude']))\n",
    "\n",
    "results = rg.search(coordinates)  \n",
    "\n",
    "result_i = 0\n",
    "count = 0\n",
    "wrong = []\n",
    "for i in data[data['country'].notnull()].index:\n",
    "    if (results[result_i].get('cc').lower() != data.at[i, 'country'].lower()):\n",
    "        print('Koordinaatide järgi:', (results[result_i].get('cc').lower()))\n",
    "        print('Andmetes märgitud:',data.at[i, 'country'])\n",
    "        print(data.iloc[i])\n",
    "        print(i)\n",
    "        wrong.extend([data.at[i, 'country'] + '_' + results[result_i].get('cc').lower()]) \n",
    "        count += 1\n",
    "    result_i += 1\n",
    "    \n",
    "Counter(wrong)\n",
    "```"
   ]
  },
  {
   "cell_type": "markdown",
   "metadata": {},
   "source": [
    "The code looked about 70,000 rows and found only 93 not correspondending places. I chekced some not correspondending places manually and came out that actually the country in data is correct, but the places are so near to country borders that sometimes Reverse Geocoder thought it should be neighbour country. For example Curlew, Washington is in US, but when I gave coordinates to Reverse Geocoder, it thought it has to be Canada. Maybe because Curlew is so small place thath Reverse Geocoder does not it in its database. Result of not correspondending places, where on first place is abbreviation of country in our data and second is from Reverse Geocoder {'us_pr': 25, 'us_ca': 15, 'ca_us': 45, 'us_ru': 3, 'us_mx': 5}.  us - USA, pr - Puerto Rico, ca - Canada, ru - Russia, mx - Mexico.\n",
    "It means that I can trust the marked countries in our data and I can use Reverse Geocoder for NaN values. There could be some mistakes, but the amount of them can not be big. Also I trust now values of \"state\" columns."
   ]
  },
  {
   "cell_type": "code",
   "execution_count": 8,
   "metadata": {},
   "outputs": [
    {
     "name": "stdout",
     "output_type": "stream",
     "text": [
      "<class 'pandas.core.frame.DataFrame'>\n",
      "RangeIndex: 80332 entries, 0 to 80331\n",
      "Data columns (total 11 columns):\n",
      " #   Column                Non-Null Count  Dtype  \n",
      "---  ------                --------------  -----  \n",
      " 0   datetime              80332 non-null  object \n",
      " 1   city                  80332 non-null  object \n",
      " 2   state                 74535 non-null  object \n",
      " 3   country               70662 non-null  object \n",
      " 4   shape                 78400 non-null  object \n",
      " 5   duration (seconds)    80332 non-null  float64\n",
      " 6   duration (hours/min)  80332 non-null  object \n",
      " 7   comments              80317 non-null  object \n",
      " 8   date posted           80332 non-null  object \n",
      " 9   latitude              80332 non-null  float64\n",
      " 10  longitude             80332 non-null  float64\n",
      "dtypes: float64(3), object(8)\n",
      "memory usage: 6.7+ MB\n"
     ]
    }
   ],
   "source": [
    "data.info()"
   ]
  },
  {
   "cell_type": "code",
   "execution_count": 9,
   "metadata": {},
   "outputs": [],
   "source": [
    "states = {\n",
    "    'Alaska': 'ak',\n",
    "    'Alabama': 'al',\n",
    "    'Arkansas': 'ar',\n",
    "    'Arizona': 'az',\n",
    "    'California': 'ca',\n",
    "    'Colorado': 'co',\n",
    "    'Connecticut': 'ct',\n",
    "    'District of Columbia': 'dc',\n",
    "    'Delaware': 'de',\n",
    "    'Florida': 'fl',\n",
    "    'Georgia': 'ga',\n",
    "    'Hawaii': 'hi',\n",
    "    'Iowa': 'ia',\n",
    "    'Idaho': 'id',\n",
    "    'Illinois': 'il',\n",
    "    'Indiana': 'in',\n",
    "    'Kansas': 'ks',\n",
    "    'Kentucky': 'ky',\n",
    "    'Louisiana': 'la',\n",
    "    'Massachusetts': 'ma',\n",
    "    'Maryland': 'md',\n",
    "    'Maine': 'me',\n",
    "    'Michigan': 'mi',\n",
    "    'Minnesota': 'mn',\n",
    "    'Missouri': 'mo',\n",
    "    'Mississippi': 'ms',\n",
    "    'Montana': 'mt',\n",
    "    'North Carolina': 'nc',\n",
    "    'North Dakota': 'nd',\n",
    "    'Nebraska': 'ne',\n",
    "    'New Hampshire': 'nh',\n",
    "    'New Jersey': 'nj',\n",
    "    'New Mexico': 'nm',\n",
    "    'Nevada': 'nv',\n",
    "    'New York': 'ny',\n",
    "    'Ohio': 'oh',\n",
    "    'Oklahoma': 'ok',\n",
    "    'Oregon': 'or',\n",
    "    'Pennsylvania': 'pa',\n",
    "    'Rhode Island': 'ri',\n",
    "    'South Carolina': 'sc',\n",
    "    'South Dakota': 'sd',\n",
    "    'Tennessee': 'tn',\n",
    "    'Texas': 'tx',\n",
    "    'Utah': 'ut',\n",
    "    'Virginia': 'va',\n",
    "    'Vermont': 'vt',\n",
    "    'Washington': 'wa',\n",
    "    'Wisconsin': 'wi',\n",
    "    'West Virginia': 'wv',\n",
    "    'Wyoming': 'wy'\n",
    "}"
   ]
  },
  {
   "cell_type": "code",
   "execution_count": 10,
   "metadata": {},
   "outputs": [
    {
     "name": "stdout",
     "output_type": "stream",
     "text": [
      "Loading formatted geocoded file...\n"
     ]
    }
   ],
   "source": [
    "#Get all rows where country or state is null. Source: https://stackoverflow.com/questions/23330654/update-a-dataframe-in-pandas-while-iterating-row-by-row\n",
    "#Fill state onyl when it is US?\n",
    "coordinates = []\n",
    "result_i = 0\n",
    "for i in data[data['country'].isnull() |  ((data['state'].isna()) & (data['country'] == 'us'))].index:\n",
    "    \n",
    "    coordinates.append((data.at[i, 'latitude'], data.at[i, 'longitude']))\n",
    "    \n",
    "results = rg.search(coordinates)\n",
    "\n",
    "for i in data[data['country'].isnull() |  ((data['state'].isna()) & (data['country'] == 'us'))].index:\n",
    "    if pd.isna(data.at[i, 'country']):\n",
    "        data.at[i, 'country'] = results[result_i].get('cc').lower()\n",
    "        \n",
    "    if (pd.isna(data.at[i, 'state'])) & (data.at[i, 'country'] == 'us'):\n",
    "        data.at[i, 'state'] = states.get(results[result_i].get('admin1'))\n",
    "        \n",
    "    result_i += 1"
   ]
  },
  {
   "cell_type": "markdown",
   "metadata": {},
   "source": [
    "Now need to do something with shape values. Since the value \"light\" is most represented, 16,565 times and second most represented value is \"triangle\", 7865 times, then it seems to okay use \"light\" value for ~2000 NaN values. Also some shapes should be renamed like \"round\" to \"circle\" , because the meaning of them is same."
   ]
  },
  {
   "cell_type": "code",
   "execution_count": 11,
   "metadata": {},
   "outputs": [],
   "source": [
    "data['shape'] = data['shape'].replace(np.nan, 'light')\n",
    "data['shape'] = data['shape'].replace('round', 'circle')\n",
    "data['shape'] = data['shape'].replace('changed', 'changing')"
   ]
  },
  {
   "cell_type": "markdown",
   "metadata": {},
   "source": [
    "Median value of duration in seconds. Since some numbers are too high (there was 31 years), it is smarter to find median value."
   ]
  },
  {
   "cell_type": "code",
   "execution_count": 12,
   "metadata": {},
   "outputs": [
    {
     "data": {
      "text/plain": [
       "180.0"
      ]
     },
     "execution_count": 12,
     "metadata": {},
     "output_type": "execute_result"
    }
   ],
   "source": [
    "data['duration (seconds)'].median()"
   ]
  },
  {
   "cell_type": "markdown",
   "metadata": {},
   "source": [
    "Changing duration values into range, so it would be possible to make graph of them."
   ]
  },
  {
   "cell_type": "code",
   "execution_count": 13,
   "metadata": {},
   "outputs": [],
   "source": [
    "bins= [0,30,60,120,300,600,1800,3600,97837000]\n",
    "labels = ['0-0.5','0.5-1','1-2','2-5','5-10','10-30','30-60','60+']\n",
    "data['duration (minutes) ranges'] = pd.cut(data['duration (seconds)'], bins=bins, labels=labels, right=False)"
   ]
  },
  {
   "cell_type": "code",
   "execution_count": 14,
   "metadata": {},
   "outputs": [
    {
     "data": {
      "text/plain": [
       "duration (minutes) ranges\n",
       "0-0.5    18118\n",
       "10-30    14650\n",
       "2-5      14430\n",
       "5-10     10882\n",
       "1-2       6780\n",
       "0.5-1     5469\n",
       "60+       5407\n",
       "30-60     4596\n",
       "dtype: int64"
      ]
     },
     "execution_count": 14,
     "metadata": {},
     "output_type": "execute_result"
    }
   ],
   "source": [
    "data.value_counts('duration (minutes) ranges')"
   ]
  },
  {
   "cell_type": "markdown",
   "metadata": {},
   "source": [
    "Saving to new .csv file."
   ]
  },
  {
   "cell_type": "code",
   "execution_count": 15,
   "metadata": {},
   "outputs": [],
   "source": [
    "data.to_csv('data/ufo_sightings_cleaned.csv', encoding='utf-8', index=False)"
   ]
  },
  {
   "cell_type": "code",
   "execution_count": 14,
   "metadata": {},
   "outputs": [],
   "source": [
    "data_new = pd.read_csv(\"data/ufo_sightings_cleaned_new.csv\")"
   ]
  },
  {
   "cell_type": "code",
   "execution_count": 15,
   "metadata": {},
   "outputs": [],
   "source": [
    "coords = data_new[['latitude','longitude']]"
   ]
  },
  {
   "cell_type": "markdown",
   "metadata": {},
   "source": [
    "Here I took the latitude and longitude sightings to find out where potentially a UFO hotspot could be. I got the coordinates 47.606 -122.331 which is positioned in Seattle."
   ]
  },
  {
   "cell_type": "code",
   "execution_count": 16,
   "metadata": {},
   "outputs": [],
   "source": [
    "data_new['latitude'] = data_new.latitude.round(4)"
   ]
  },
  {
   "cell_type": "code",
   "execution_count": 17,
   "metadata": {},
   "outputs": [],
   "source": [
    "data_new['longitude'] = data_new.longitude.round(4)"
   ]
  },
  {
   "cell_type": "code",
   "execution_count": 18,
   "metadata": {},
   "outputs": [
    {
     "data": {
      "text/plain": [
       "47.6064    581\n",
       "40.7142    529\n",
       "33.4483    475\n",
       "34.0522    394\n",
       "36.1750    388\n",
       "          ... \n",
       "44.7089      1\n",
       "49.1344      1\n",
       "33.4418      1\n",
       "26.2350      1\n",
       "50.4658      1\n",
       "Name: latitude, Length: 17833, dtype: int64"
      ]
     },
     "execution_count": 18,
     "metadata": {},
     "output_type": "execute_result"
    }
   ],
   "source": [
    "data_new['latitude'].value_counts()"
   ]
  },
  {
   "cell_type": "code",
   "execution_count": 19,
   "metadata": {},
   "outputs": [
    {
     "data": {
      "text/plain": [
       "-122.3308    581\n",
       "-74.0064     529\n",
       "-112.0733    475\n",
       "-118.2428    392\n",
       "-115.1364    388\n",
       "            ... \n",
       "-112.3973      1\n",
       "-97.5817       1\n",
       "-89.1350       1\n",
       "-45.0014       1\n",
       " 22.8918       1\n",
       "Name: longitude, Length: 19192, dtype: int64"
      ]
     },
     "execution_count": 19,
     "metadata": {},
     "output_type": "execute_result"
    }
   ],
   "source": [
    "data_new['longitude'].value_counts()"
   ]
  },
  {
   "cell_type": "markdown",
   "metadata": {},
   "source": [
    "In this segment, work begins with the geopandas module. Basically all these maps are a type of dataframe called GeoDataFrame. The borders are shapely Polygon objects which define where a country or region is positioned relative to the world."
   ]
  },
  {
   "cell_type": "code",
   "execution_count": 20,
   "metadata": {
    "pycharm": {
     "name": "#%%\n"
    }
   },
   "outputs": [
    {
     "data": {
      "text/plain": [
       "<AxesSubplot:>"
      ]
     },
     "execution_count": 20,
     "metadata": {},
     "output_type": "execute_result"
    },
    {
     "data": {
      "image/png": "[encoded data removed]",
      "text/plain": [
       "<Figure size 432x288 with 1 Axes>"
      ]
     },
     "metadata": {
      "needs_background": "light"
     },
     "output_type": "display_data"
    }
   ],
   "source": [
    "world = gp.read_file(gp.datasets.get_path('naturalearth_lowres'))\n",
    "world.plot()"
   ]
  },
  {
   "cell_type": "code",
   "execution_count": 21,
   "metadata": {
    "pycharm": {
     "name": "#%%\n"
    }
   },
   "outputs": [
    {
     "data": {
      "text/html": [
       "<div>\n",
       "<style scoped>\n",
       "    .dataframe tbody tr th:only-of-type {\n",
       "        vertical-align: middle;\n",
       "    }\n",
       "\n",
       "    .dataframe tbody tr th {\n",
       "        vertical-align: top;\n",
       "    }\n",
       "\n",
       "    .dataframe thead th {\n",
       "        text-align: right;\n",
       "    }\n",
       "</style>\n",
       "<table border=\"1\" class=\"dataframe\">\n",
       "  <thead>\n",
       "    <tr style=\"text-align: right;\">\n",
       "      <th></th>\n",
       "      <th>pop_est</th>\n",
       "      <th>continent</th>\n",
       "      <th>name</th>\n",
       "      <th>iso_a3</th>\n",
       "      <th>gdp_md_est</th>\n",
       "      <th>geometry</th>\n",
       "    </tr>\n",
       "  </thead>\n",
       "  <tbody>\n",
       "    <tr>\n",
       "      <th>0</th>\n",
       "      <td>920938</td>\n",
       "      <td>Oceania</td>\n",
       "      <td>Fiji</td>\n",
       "      <td>FJI</td>\n",
       "      <td>8374.0</td>\n",
       "      <td>MULTIPOLYGON (((180.00000 -16.06713, 180.00000...</td>\n",
       "    </tr>\n",
       "    <tr>\n",
       "      <th>1</th>\n",
       "      <td>53950935</td>\n",
       "      <td>Africa</td>\n",
       "      <td>Tanzania</td>\n",
       "      <td>TZA</td>\n",
       "      <td>150600.0</td>\n",
       "      <td>POLYGON ((33.90371 -0.95000, 34.07262 -1.05982...</td>\n",
       "    </tr>\n",
       "    <tr>\n",
       "      <th>2</th>\n",
       "      <td>603253</td>\n",
       "      <td>Africa</td>\n",
       "      <td>W. Sahara</td>\n",
       "      <td>ESH</td>\n",
       "      <td>906.5</td>\n",
       "      <td>POLYGON ((-8.66559 27.65643, -8.66512 27.58948...</td>\n",
       "    </tr>\n",
       "    <tr>\n",
       "      <th>3</th>\n",
       "      <td>35623680</td>\n",
       "      <td>North America</td>\n",
       "      <td>Canada</td>\n",
       "      <td>CAN</td>\n",
       "      <td>1674000.0</td>\n",
       "      <td>MULTIPOLYGON (((-122.84000 49.00000, -122.9742...</td>\n",
       "    </tr>\n",
       "    <tr>\n",
       "      <th>4</th>\n",
       "      <td>326625791</td>\n",
       "      <td>North America</td>\n",
       "      <td>United States of America</td>\n",
       "      <td>USA</td>\n",
       "      <td>18560000.0</td>\n",
       "      <td>MULTIPOLYGON (((-122.84000 49.00000, -120.0000...</td>\n",
       "    </tr>\n",
       "  </tbody>\n",
       "</table>\n",
       "</div>"
      ],
      "text/plain": [
       "     pop_est      continent                      name iso_a3  gdp_md_est  \\\n",
       "0     920938        Oceania                      Fiji    FJI      8374.0   \n",
       "1   53950935         Africa                  Tanzania    TZA    150600.0   \n",
       "2     603253         Africa                 W. Sahara    ESH       906.5   \n",
       "3   35623680  North America                    Canada    CAN   1674000.0   \n",
       "4  326625791  North America  United States of America    USA  18560000.0   \n",
       "\n",
       "                                            geometry  \n",
       "0  MULTIPOLYGON (((180.00000 -16.06713, 180.00000...  \n",
       "1  POLYGON ((33.90371 -0.95000, 34.07262 -1.05982...  \n",
       "2  POLYGON ((-8.66559 27.65643, -8.66512 27.58948...  \n",
       "3  MULTIPOLYGON (((-122.84000 49.00000, -122.9742...  \n",
       "4  MULTIPOLYGON (((-122.84000 49.00000, -120.0000...  "
      ]
     },
     "execution_count": 21,
     "metadata": {},
     "output_type": "execute_result"
    }
   ],
   "source": [
    "world.head()"
   ]
  },
  {
   "cell_type": "markdown",
   "metadata": {},
   "source": [
    "In geopandas you can also do layered maps, so you can position different markers on maps. The following code was done using a tutorial made by Regis Nisengwe the link for which can be found [here](https://www.linkedin.com/pulse/geopandas-plotting-data-points-map-using-python-r%C3%A9gis-nisengwe/).  \n",
    "First of all we need to define a coordinate reference system (CRS) to tell Python how these coordinates are positioned in reference to the Earth. Then we need to define the geometry which tells Python where to place these new Point objects we've just created. "
   ]
  },
  {
   "cell_type": "code",
   "execution_count": 22,
   "metadata": {},
   "outputs": [
    {
     "name": "stderr",
     "output_type": "stream",
     "text": [
      "C:\\Users\\Kasutaja\\anaconda3\\envs\\geo_env\\lib\\site-packages\\pyproj\\crs\\crs.py:131: FutureWarning: '+init=<authority>:<code>' syntax is deprecated. '<authority>:<code>' is the preferred initialization method. When making the change, be mindful of axis order changes: https://pyproj4.github.io/pyproj/stable/gotchas.html#axis-order-changes-in-proj-6\n",
      "  in_crs_string = _prepare_from_proj_string(in_crs_string)\n"
     ]
    },
    {
     "data": {
      "text/plain": [
       "<AxesSubplot:>"
      ]
     },
     "execution_count": 22,
     "metadata": {},
     "output_type": "execute_result"
    },
    {
     "data": {
      "image/png": "[encoded data removed]",
      "text/plain": [
       "<Figure size 432x288 with 1 Axes>"
      ]
     },
     "metadata": {
      "needs_background": "light"
     },
     "output_type": "display_data"
    }
   ],
   "source": [
    "crs={'init':'epsg:4326'}\n",
    "geometry=[Point(xy) for xy in zip(coords['longitude'],coords['latitude'])]\n",
    "geodata=gp.GeoDataFrame(coords,crs=crs,geometry=geometry)\n",
    "geodata.plot()"
   ]
  },
  {
   "cell_type": "markdown",
   "metadata": {},
   "source": [
    "Finally, let's plot one geodata plot over another."
   ]
  },
  {
   "cell_type": "code",
   "execution_count": 23,
   "metadata": {},
   "outputs": [
    {
     "data": {
      "text/plain": [
       "Text(39.875, 0.5, 'Latitude')"
      ]
     },
     "execution_count": 23,
     "metadata": {},
     "output_type": "execute_result"
    },
    {
     "data": {
      "image/png": "[encoded data removed]",
      "text/plain": [
       "<Figure size 576x288 with 1 Axes>"
      ]
     },
     "metadata": {
      "needs_background": "light"
     },
     "output_type": "display_data"
    }
   ],
   "source": [
    "fig, ax = plt.subplots(figsize=(8,4))\n",
    "world.plot(ax=ax, facecolor='Grey',edgecolor='k',alpha=1,linewidth=1,cmap=\"cividis\")\n",
    "geodata.plot(ax=ax, color='red',markersize=1)\n",
    "fig.suptitle('All sightings in the dataset',fontsize=12)\n",
    "ax.set_xlabel('Longitude',fontsize=10)\n",
    "ax.set_ylabel('Latitude',fontsize='medium')"
   ]
  },
  {
   "cell_type": "markdown",
   "metadata": {},
   "source": [
    "Down below is just an experiment with only US data, which sadly never got used."
   ]
  },
  {
   "cell_type": "code",
   "execution_count": 24,
   "metadata": {
    "pycharm": {
     "name": "#%%\n"
    }
   },
   "outputs": [
    {
     "data": {
      "text/html": [
       "<div>\n",
       "<style scoped>\n",
       "    .dataframe tbody tr th:only-of-type {\n",
       "        vertical-align: middle;\n",
       "    }\n",
       "\n",
       "    .dataframe tbody tr th {\n",
       "        vertical-align: top;\n",
       "    }\n",
       "\n",
       "    .dataframe thead th {\n",
       "        text-align: right;\n",
       "    }\n",
       "</style>\n",
       "<table border=\"1\" class=\"dataframe\">\n",
       "  <thead>\n",
       "    <tr style=\"text-align: right;\">\n",
       "      <th></th>\n",
       "      <th>STATEFP</th>\n",
       "      <th>STATENS</th>\n",
       "      <th>AFFGEOID</th>\n",
       "      <th>GEOID</th>\n",
       "      <th>STUSPS</th>\n",
       "      <th>NAME</th>\n",
       "      <th>LSAD</th>\n",
       "      <th>ALAND</th>\n",
       "      <th>AWATER</th>\n",
       "      <th>geometry</th>\n",
       "    </tr>\n",
       "  </thead>\n",
       "  <tbody>\n",
       "    <tr>\n",
       "      <th>0</th>\n",
       "      <td>01</td>\n",
       "      <td>01779775</td>\n",
       "      <td>0400000US01</td>\n",
       "      <td>01</td>\n",
       "      <td>AL</td>\n",
       "      <td>Alabama</td>\n",
       "      <td>00</td>\n",
       "      <td>131173688951</td>\n",
       "      <td>4593686489</td>\n",
       "      <td>MULTIPOLYGON (((-88.04374 30.51742, -88.03661 ...</td>\n",
       "    </tr>\n",
       "    <tr>\n",
       "      <th>1</th>\n",
       "      <td>02</td>\n",
       "      <td>01785533</td>\n",
       "      <td>0400000US02</td>\n",
       "      <td>02</td>\n",
       "      <td>AK</td>\n",
       "      <td>Alaska</td>\n",
       "      <td>00</td>\n",
       "      <td>1477946266785</td>\n",
       "      <td>245390495931</td>\n",
       "      <td>MULTIPOLYGON (((-133.65582 55.62562, -133.6249...</td>\n",
       "    </tr>\n",
       "    <tr>\n",
       "      <th>2</th>\n",
       "      <td>04</td>\n",
       "      <td>01779777</td>\n",
       "      <td>0400000US04</td>\n",
       "      <td>04</td>\n",
       "      <td>AZ</td>\n",
       "      <td>Arizona</td>\n",
       "      <td>00</td>\n",
       "      <td>294198560125</td>\n",
       "      <td>1027346486</td>\n",
       "      <td>POLYGON ((-114.79968 32.59362, -114.80939 32.6...</td>\n",
       "    </tr>\n",
       "    <tr>\n",
       "      <th>3</th>\n",
       "      <td>08</td>\n",
       "      <td>01779779</td>\n",
       "      <td>0400000US08</td>\n",
       "      <td>08</td>\n",
       "      <td>CO</td>\n",
       "      <td>Colorado</td>\n",
       "      <td>00</td>\n",
       "      <td>268429343790</td>\n",
       "      <td>1175112870</td>\n",
       "      <td>POLYGON ((-109.06025 38.59933, -109.05954 38.7...</td>\n",
       "    </tr>\n",
       "    <tr>\n",
       "      <th>4</th>\n",
       "      <td>09</td>\n",
       "      <td>01779780</td>\n",
       "      <td>0400000US09</td>\n",
       "      <td>09</td>\n",
       "      <td>CT</td>\n",
       "      <td>Connecticut</td>\n",
       "      <td>00</td>\n",
       "      <td>12542638347</td>\n",
       "      <td>1815476291</td>\n",
       "      <td>POLYGON ((-73.72777 41.10070, -73.69595 41.115...</td>\n",
       "    </tr>\n",
       "  </tbody>\n",
       "</table>\n",
       "</div>"
      ],
      "text/plain": [
       "  STATEFP   STATENS     AFFGEOID GEOID STUSPS         NAME LSAD  \\\n",
       "0      01  01779775  0400000US01    01     AL      Alabama   00   \n",
       "1      02  01785533  0400000US02    02     AK       Alaska   00   \n",
       "2      04  01779777  0400000US04    04     AZ      Arizona   00   \n",
       "3      08  01779779  0400000US08    08     CO     Colorado   00   \n",
       "4      09  01779780  0400000US09    09     CT  Connecticut   00   \n",
       "\n",
       "           ALAND        AWATER  \\\n",
       "0   131173688951    4593686489   \n",
       "1  1477946266785  245390495931   \n",
       "2   294198560125    1027346486   \n",
       "3   268429343790    1175112870   \n",
       "4    12542638347    1815476291   \n",
       "\n",
       "                                            geometry  \n",
       "0  MULTIPOLYGON (((-88.04374 30.51742, -88.03661 ...  \n",
       "1  MULTIPOLYGON (((-133.65582 55.62562, -133.6249...  \n",
       "2  POLYGON ((-114.79968 32.59362, -114.80939 32.6...  \n",
       "3  POLYGON ((-109.06025 38.59933, -109.05954 38.7...  \n",
       "4  POLYGON ((-73.72777 41.10070, -73.69595 41.115...  "
      ]
     },
     "execution_count": 24,
     "metadata": {},
     "output_type": "execute_result"
    }
   ],
   "source": [
    "#datascience.quantecon.org/applications/maps.html\n",
    "state_df = gp.read_file(\"data/cb_2016_us_state_5m.zip\")\n",
    "state_df.head()"
   ]
  },
  {
   "cell_type": "code",
   "execution_count": 25,
   "metadata": {
    "pycharm": {
     "name": "#%%\n"
    }
   },
   "outputs": [
    {
     "data": {
      "text/plain": [
       "<AxesSubplot:>"
      ]
     },
     "execution_count": 25,
     "metadata": {},
     "output_type": "execute_result"
    },
    {
     "data": {
      "image/png": "[encoded data removed]",
      "text/plain": [
       "<Figure size 432x288 with 1 Axes>"
      ]
     },
     "metadata": {
      "needs_background": "light"
     },
     "output_type": "display_data"
    }
   ],
   "source": [
    "state_df.plot()"
   ]
  }
 ],
 "metadata": {
  "colab": {
   "name": "UFO_sightings.ipynb",
   "provenance": []
  },
  "kernelspec": {
   "display_name": "Python 3",
   "language": "python",
   "name": "python3"
  },
  "language_info": {
   "codemirror_mode": {
    "name": "ipython",
    "version": 3
   },
   "file_extension": ".py",
   "mimetype": "text/x-python",
   "name": "python",
   "nbconvert_exporter": "python",
   "pygments_lexer": "ipython3",
   "version": "3.8.5"
  }
 },
 "nbformat": 4,
 "nbformat_minor": 1
}
