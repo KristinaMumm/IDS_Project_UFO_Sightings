{
  "nbformat": 4,
  "nbformat_minor": 0,
  "metadata": {
    "colab": {
      "name": "UFO_sightings.ipynb",
      "provenance": []
    },
    "kernelspec": {
      "name": "python3",
      "display_name": "Python 3"
    },
    "language_info": {
      "name": "python"
    }
  },
  "cells": [
    {
      "cell_type": "code",
      "metadata": {
        "id": "9j3ZakrST4GJ"
      },
      "source": [
        "import pandas as pd\n",
        "data = pd.read_csv(\"data/ufo_sightings_scrubbed.csv\")"
      ],
      "execution_count": null,
      "outputs": []
    }
  ]
}